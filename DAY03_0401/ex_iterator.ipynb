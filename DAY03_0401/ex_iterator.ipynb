{
 "cells": [
  {
   "cell_type": "markdown",
   "metadata": {},
   "source": [
    "## [iterator 살펴보기]\n",
    "- iterable : for ~ in 으로 요소 제어 가능한 자료형, List, Tuple, str, ..., __iter__() 메소드 가진 자료형\n",
    "- iterator : iter() 함수로 생성, next() 메서드를 내장하고 있는 자료형"
   ]
  },
  {
   "cell_type": "code",
   "execution_count": 49,
   "metadata": {},
   "outputs": [],
   "source": [
    "a = [10,20]\n",
    "# next(a) ## iterator 객체가 아님!"
   ]
  },
  {
   "cell_type": "code",
   "execution_count": 50,
   "metadata": {},
   "outputs": [
    {
     "data": {
      "text/plain": [
       "(10, 20)"
      ]
     },
     "execution_count": 50,
     "metadata": {},
     "output_type": "execute_result"
    }
   ],
   "source": [
    "### ===> iter(데이터) : iterator 인스턴스 생성\n",
    "\n",
    "b = iter(a)\n",
    "# type(b)\n",
    "# next(b) 사용가능\n",
    "next(b), next(b)"
   ]
  },
  {
   "cell_type": "code",
   "execution_count": 52,
   "metadata": {},
   "outputs": [],
   "source": [
    "# next(b) # 더 가져올 것이 없어서 stopIteration 발생"
   ]
  },
  {
   "cell_type": "markdown",
   "metadata": {},
   "source": [
    "### [제너레이터 함수] <hr>\n",
    "- 형식 : def 함수명(): yield 반환값\n",
    "- 코드 실행 후 결과를 반환\n",
    "- 실행 된 상태 정보 유지 ==> 다시 호출되면 이전 실행 정보를 바탕으로 동작함\n",
    "- 장점 : 메모리 효율 ==> 대량의 데이터 처리에 효율적 ==> 현재 실행되는 만큼만 메모리 사용\n",
    "- "
   ]
  },
  {
   "cell_type": "code",
   "execution_count": 53,
   "metadata": {},
   "outputs": [
    {
     "name": "stdout",
     "output_type": "stream",
     "text": [
      "get => <generator object generator_func at 0x10a692d60>\n"
     ]
    }
   ],
   "source": [
    "def generator_func():\n",
    "    for i in [11,22,33]:\n",
    "        yield i\n",
    "\n",
    "gen = generator_func()\n",
    "print(f'get => {gen}')"
   ]
  },
  {
   "cell_type": "code",
   "execution_count": 54,
   "metadata": {},
   "outputs": [
    {
     "name": "stdout",
     "output_type": "stream",
     "text": [
      "11\n",
      "22\n",
      "33\n"
     ]
    }
   ],
   "source": [
    "def generator_func():\n",
    "    a = [11,22,33]\n",
    "    yield from a\n",
    "\n",
    "for value in gen:\n",
    "    print(value)"
   ]
  },
  {
   "cell_type": "code",
   "execution_count": 55,
   "metadata": {},
   "outputs": [],
   "source": [
    "def make_value():\n",
    "    data = [10,20,30,40]\n",
    "    return data *10"
   ]
  },
  {
   "cell_type": "code",
   "execution_count": 56,
   "metadata": {},
   "outputs": [
    {
     "data": {
      "text/plain": [
       "(function,\n",
       " [10,\n",
       "  20,\n",
       "  30,\n",
       "  40,\n",
       "  10,\n",
       "  20,\n",
       "  30,\n",
       "  40,\n",
       "  10,\n",
       "  20,\n",
       "  30,\n",
       "  40,\n",
       "  10,\n",
       "  20,\n",
       "  30,\n",
       "  40,\n",
       "  10,\n",
       "  20,\n",
       "  30,\n",
       "  40,\n",
       "  10,\n",
       "  20,\n",
       "  30,\n",
       "  40,\n",
       "  10,\n",
       "  20,\n",
       "  30,\n",
       "  40,\n",
       "  10,\n",
       "  20,\n",
       "  30,\n",
       "  40,\n",
       "  10,\n",
       "  20,\n",
       "  30,\n",
       "  40,\n",
       "  10,\n",
       "  20,\n",
       "  30,\n",
       "  40])"
      ]
     },
     "execution_count": 56,
     "metadata": {},
     "output_type": "execute_result"
    }
   ],
   "source": [
    "type(make_value), make_value()"
   ]
  },
  {
   "cell_type": "code",
   "execution_count": 57,
   "metadata": {},
   "outputs": [],
   "source": [
    "def make_value2():\n",
    "    data = [10,20,30,40]\n",
    "    yield data *10"
   ]
  },
  {
   "cell_type": "code",
   "execution_count": 58,
   "metadata": {},
   "outputs": [
    {
     "data": {
      "text/plain": [
       "(function, <generator object make_value2 at 0x10a692740>)"
      ]
     },
     "execution_count": 58,
     "metadata": {},
     "output_type": "execute_result"
    }
   ],
   "source": [
    "type(make_value2), make_value2()"
   ]
  },
  {
   "cell_type": "code",
   "execution_count": 59,
   "metadata": {},
   "outputs": [
    {
     "data": {
      "text/plain": [
       "(generator,\n",
       " [10,\n",
       "  20,\n",
       "  30,\n",
       "  40,\n",
       "  10,\n",
       "  20,\n",
       "  30,\n",
       "  40,\n",
       "  10,\n",
       "  20,\n",
       "  30,\n",
       "  40,\n",
       "  10,\n",
       "  20,\n",
       "  30,\n",
       "  40,\n",
       "  10,\n",
       "  20,\n",
       "  30,\n",
       "  40,\n",
       "  10,\n",
       "  20,\n",
       "  30,\n",
       "  40,\n",
       "  10,\n",
       "  20,\n",
       "  30,\n",
       "  40,\n",
       "  10,\n",
       "  20,\n",
       "  30,\n",
       "  40,\n",
       "  10,\n",
       "  20,\n",
       "  30,\n",
       "  40,\n",
       "  10,\n",
       "  20,\n",
       "  30,\n",
       "  40])"
      ]
     },
     "execution_count": 59,
     "metadata": {},
     "output_type": "execute_result"
    }
   ],
   "source": [
    "m2 = make_value2()\n",
    "type(m2), next(m2)"
   ]
  },
  {
   "cell_type": "code",
   "execution_count": 60,
   "metadata": {},
   "outputs": [],
   "source": [
    "class A:\n",
    "    def __init__(self, data):\n",
    "        self.data = data\n",
    "    \n",
    "    ## 연산자 오버라이딩\n",
    "    def __add__(self,other):\n",
    "        return self.data + other.data\n",
    "    \n",
    "    ## A 인스턴스끼리 뺄셈(-) 연산 진행 시 호출되는 메서드\n",
    "    def __sub__(self, other):\n",
    "        return self.data - other.data\n",
    "    \n",
    "    def __next__(self):\n",
    "        return self.data * 10"
   ]
  },
  {
   "cell_type": "code",
   "execution_count": 61,
   "metadata": {},
   "outputs": [
    {
     "data": {
      "text/plain": [
       "(15, 5, 100, __main__.A)"
      ]
     },
     "execution_count": 61,
     "metadata": {},
     "output_type": "execute_result"
    }
   ],
   "source": [
    "a1, a2 = A(10), A(5)\n",
    "a1+a2, a1-a2, next(a1), type(a1)"
   ]
  },
  {
   "cell_type": "code",
   "execution_count": 62,
   "metadata": {},
   "outputs": [],
   "source": [
    "### ===> 여러 개의 데이터 처리하는 함수와 제너레이터\n",
    "def many_data():\n",
    "    for n in range(50):\n",
    "        print(n)\n",
    "\n",
    "def many_data2():\n",
    "    for n in range(50):\n",
    "        yield print(n)      # f1"
   ]
  },
  {
   "cell_type": "code",
   "execution_count": 63,
   "metadata": {},
   "outputs": [
    {
     "name": "stdout",
     "output_type": "stream",
     "text": [
      "0\n",
      "1\n",
      "2\n",
      "3\n",
      "4\n",
      "5\n",
      "6\n",
      "7\n",
      "8\n",
      "9\n",
      "10\n",
      "11\n",
      "12\n",
      "13\n",
      "14\n",
      "15\n",
      "16\n",
      "17\n",
      "18\n",
      "19\n",
      "20\n",
      "21\n",
      "22\n",
      "23\n",
      "24\n",
      "25\n",
      "26\n",
      "27\n",
      "28\n",
      "29\n",
      "30\n",
      "31\n",
      "32\n",
      "33\n",
      "34\n",
      "35\n",
      "36\n",
      "37\n",
      "38\n",
      "39\n",
      "40\n",
      "41\n",
      "42\n",
      "43\n",
      "44\n",
      "45\n",
      "46\n",
      "47\n",
      "48\n",
      "49\n"
     ]
    }
   ],
   "source": [
    "md2 = many_data2()\n",
    "for _ in md2:\n",
    "    _"
   ]
  },
  {
   "cell_type": "code",
   "execution_count": 64,
   "metadata": {},
   "outputs": [],
   "source": [
    "# List, Dict\n",
    "l = [ value for value in range(10)]\n",
    "d = { k : k*5 for k in range(10) }"
   ]
  },
  {
   "cell_type": "code",
   "execution_count": 65,
   "metadata": {},
   "outputs": [
    {
     "data": {
      "text/plain": [
       "[0, 1, 2, 3, 4, 5, 6, 7, 8, 9]"
      ]
     },
     "execution_count": 65,
     "metadata": {},
     "output_type": "execute_result"
    }
   ],
   "source": [
    "l"
   ]
  },
  {
   "cell_type": "code",
   "execution_count": 66,
   "metadata": {},
   "outputs": [
    {
     "data": {
      "text/plain": [
       "{0: 0, 1: 5, 2: 10, 3: 15, 4: 20, 5: 25, 6: 30, 7: 35, 8: 40, 9: 45}"
      ]
     },
     "execution_count": 66,
     "metadata": {},
     "output_type": "execute_result"
    }
   ],
   "source": [
    "d"
   ]
  },
  {
   "cell_type": "code",
   "execution_count": 70,
   "metadata": {},
   "outputs": [],
   "source": [
    "# Generator Comprehension\n",
    "g = ( num ** 2 for num in range(5))"
   ]
  },
  {
   "cell_type": "code",
   "execution_count": 71,
   "metadata": {},
   "outputs": [
    {
     "name": "stdout",
     "output_type": "stream",
     "text": [
      "<class 'generator'>\n"
     ]
    },
    {
     "data": {
      "text/plain": [
       "(None, 0, 1, 4, 9)"
      ]
     },
     "execution_count": 71,
     "metadata": {},
     "output_type": "execute_result"
    }
   ],
   "source": [
    "print(type(g)), next(g), next(g), next(g), next(g)"
   ]
  },
  {
   "cell_type": "code",
   "execution_count": null,
   "metadata": {},
   "outputs": [],
   "source": []
  }
 ],
 "metadata": {
  "kernelspec": {
   "display_name": "Torch_NLP38",
   "language": "python",
   "name": "python3"
  },
  "language_info": {
   "codemirror_mode": {
    "name": "ipython",
    "version": 3
   },
   "file_extension": ".py",
   "mimetype": "text/x-python",
   "name": "python",
   "nbconvert_exporter": "python",
   "pygments_lexer": "ipython3",
   "version": "3.8.19"
  }
 },
 "nbformat": 4,
 "nbformat_minor": 2
}
