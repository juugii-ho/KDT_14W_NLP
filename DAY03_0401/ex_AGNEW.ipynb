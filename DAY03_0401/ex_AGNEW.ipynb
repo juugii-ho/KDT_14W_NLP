{
 "cells": [
  {
   "cell_type": "markdown",
   "metadata": {},
   "source": [
    "## torchtext 라이브러리로 텍스트 분류 <hr>\n",
    "- [1]단계 -  데이터 전처리 : 숫자형식으로 변환하는 것 까지\n",
    "- [2]단계 - 모델 구현"
   ]
  },
  {
   "cell_type": "markdown",
   "metadata": {},
   "source": [
    "### [1-1] 데이터 준비\n",
    "- AG_NEWS 데이터셋 반복자 : 레이블(label) + 문장의 튜플(tuple) 형태"
   ]
  },
  {
   "cell_type": "code",
   "execution_count": 14,
   "metadata": {},
   "outputs": [],
   "source": [
    "# !pip install torchdata"
   ]
  },
  {
   "cell_type": "code",
   "execution_count": 15,
   "metadata": {},
   "outputs": [],
   "source": [
    "import torch\n",
    "from torchtext.datasets import AG_NEWS\n",
    "\n",
    "### ===> DataPipe 타입 >>> iterator 타입 형변환\n",
    "train_iter = iter(AG_NEWS(split='train'))"
   ]
  },
  {
   "cell_type": "code",
   "execution_count": 16,
   "metadata": {},
   "outputs": [
    {
     "data": {
      "text/plain": [
       "(3,\n",
       " \"Wall St. Bears Claw Back Into the Black (Reuters) Reuters - Short-sellers, Wall Street's dwindling\\\\band of ultra-cynics, are seeing green again.\")"
      ]
     },
     "execution_count": 16,
     "metadata": {},
     "output_type": "execute_result"
    }
   ],
   "source": [
    "# 데이터 확인 => (label, text), label 1 ~ 4\n",
    "next(train_iter)"
   ]
  },
  {
   "cell_type": "markdown",
   "metadata": {},
   "source": [
    "### [2] 데이터처리 파이프라인 준비 <hr>\n",
    "- 어휘집(vocab), 벡터(word vector), 토크나이저(tokenizer)\n",
    "- 가공되지 않은 텍스트 문자열에 대한 데이터 처리 빌딩 블록\n",
    "- 일반적인 NLP 데이터 처리\n",
    "    - 첫번째 단계 : 가공되지 않은 학습 데이터셋으로 어휘집 생성\n",
    "        ==> 토큰 목록 또는 반복자 받는 내장 팩토리 함수(factory function) : ``build_vocab_from_iterator``\n",
    "    - 사용자는 어휘집에 추가할 특수 기호(special symbol) 전달 가능"
   ]
  },
  {
   "cell_type": "code",
   "execution_count": 19,
   "metadata": {},
   "outputs": [],
   "source": [
    "from torchtext.data.utils import get_tokenizer\n",
    "from torchtext.vocab import build_vocab_from_iterator\n",
    "\n",
    "### ===> 토크나이즈 생성\n",
    "tokenizer = get_tokenizer('basic_english')\n",
    "\n",
    "### ===> 뉴스 학습 데이터 추출\n",
    "train_iter = AG_NEWS(split='train')"
   ]
  },
  {
   "cell_type": "code",
   "execution_count": 20,
   "metadata": {},
   "outputs": [],
   "source": [
    "### ==> 토큰 생성 함수 : 데이터 추출하여 토큰화\n",
    "def yeild_tokens(data_iter):\n",
    "    for _, text in data_iter:\n",
    "        yield tokenizer(text)"
   ]
  },
  {
   "cell_type": "code",
   "execution_count": 21,
   "metadata": {},
   "outputs": [],
   "source": [
    "### ==> 단어사전 생성\n",
    "vocab = build_vocab_from_iterator(yeild_tokens(train_iter), specials=[\"<unk>\"])\n",
    "\n",
    "### ===> <UNK> 인덱스 0으로 설정\n",
    "vocab.set_default_index(vocab[\"<unk>\"])"
   ]
  },
  {
   "cell_type": "code",
   "execution_count": 25,
   "metadata": {},
   "outputs": [
    {
     "data": {
      "text/plain": [
       "[0, 475, 21, 30, 5297]"
      ]
     },
     "execution_count": 25,
     "metadata": {},
     "output_type": "execute_result"
    }
   ],
   "source": [
    "vocab(['<unk>', 'here', 'is', 'an', 'example'])"
   ]
  },
  {
   "cell_type": "code",
   "execution_count": 26,
   "metadata": {},
   "outputs": [],
   "source": [
    "### ===> 텍스트 >>> 정수 인코딩\n",
    "text_pipeline = lambda x: vocab(tokenizer(x))\n",
    "\n",
    "### ===> 레이블 >>> 정수 인코딩 \n",
    "label_pipeline = lambda x: int(x)-1  # (0~3으로 만들겠따)"
   ]
  },
  {
   "cell_type": "markdown",
   "metadata": {},
   "source": [
    "### [3] 데이터 배치(batch)와 반복자 생성 <hr>\n",
    "- torch.utils.data.DataLoader : getitem(), len() 구현한 맵 형태(map-style)\n",
    "- collate_fn() : DataLoader로부터 생성된 샘플 배치 함수\n",
    "    - 입력 : DataLoader에 배치 크기(batch size)가 있는 배치(batch) 데이터"
   ]
  },
  {
   "cell_type": "code",
   "execution_count": 55,
   "metadata": {},
   "outputs": [],
   "source": [
    "from torch.utils.data import DataLoader\n",
    "\n",
    "device = 'mps' if torch.backends.mps.is_available() else 'cuda' if torch.cuda.is_available() else 'cpu'\n",
    "\n",
    "### ===> 배치크기만큼 데이터셋 반환 함수\n",
    "def collate_batch(batch):\n",
    "    label_list, text_list, offsets = [],[],[0]\n",
    "\n",
    "    # 1개씩 뉴스기사, 라벨 추출해서 저장\n",
    "    for (_label, _text) in batch:\n",
    "        # 라벨 인코딩 후 저장\n",
    "        label_list.append(label_pipeline(_label))\n",
    "        # 텍스트 인코딩 후 저장\n",
    "        processed_text = torch.tensor(text_pipeline(_text), dtype=torch.int64)\n",
    "        text_list.append(processed_text)\n",
    "        # 텍스트 offset 즉, 텍스트 크기/길이 저장\n",
    "        offsets.append(processed_text.size(0))\n",
    "\n",
    "    # 텐서화 진행\n",
    "    label_list = torch.tensor(label_list, dtype=torch.int64)\n",
    "    offsets = torch.tensor(offsets[:-1]).cumsum(dim=0)\n",
    "    text_list = torch.cat(text_list)\n",
    "\n",
    "    return label_list.to(device), text_list.to(device), offsets.to(device)"
   ]
  },
  {
   "cell_type": "code",
   "execution_count": 64,
   "metadata": {},
   "outputs": [],
   "source": [
    "train_iter = AG_NEWS(split='train')\n",
    "dataloader = DataLoader(train_iter,\n",
    "                        batch_size=8,\n",
    "                        shuffle=False,\n",
    "                        collate_fn=collate_batch)"
   ]
  },
  {
   "cell_type": "code",
   "execution_count": 65,
   "metadata": {},
   "outputs": [
    {
     "name": "stdout",
     "output_type": "stream",
     "text": [
      "num_class : 4, vocab_size : 95811\n"
     ]
    }
   ],
   "source": [
    "### ===> 분류 클래스 수와 단어사전 개수\n",
    "num_class = len(set([label for (label,text) in train_iter]))\n",
    "vocab_size = len(vocab)\n",
    "\n",
    "print(f'num_class : {num_class}, vocab_size : {vocab_size}')"
   ]
  },
  {
   "cell_type": "code",
   "execution_count": 66,
   "metadata": {},
   "outputs": [
    {
     "data": {
      "text/plain": [
       "<torch.utils.data.dataloader.DataLoader at 0x14fedf5e0>"
      ]
     },
     "execution_count": 66,
     "metadata": {},
     "output_type": "execute_result"
    }
   ],
   "source": [
    "dataloader"
   ]
  },
  {
   "cell_type": "code",
   "execution_count": 67,
   "metadata": {},
   "outputs": [
    {
     "name": "stdout",
     "output_type": "stream",
     "text": [
      "tensor([2, 2, 2, 2, 2, 2, 2, 2], device='mps:0') tensor([  431,   425,     1,  1605, 14838,   113,    66,     2,   848,    13,\n",
      "           27,    14,    27,    15, 50725,     3,   431,   374,    16,     9,\n",
      "        67507,     6, 52258,     3,    42,  4009,   783,   325,     1, 15874,\n",
      "         1072,   854,  1310,  4250,    13,    27,    14,    27,    15,   929,\n",
      "          797,   320, 15874,    98,     3, 27657,    28,     5,  4459,    11,\n",
      "          564, 52790,     8, 80617,  2125,     7,     2,   525,   241,     3,\n",
      "           28,  3890, 82814,  6574,    10,   206,   359,     6,     2,   126,\n",
      "            1,    58,     8,   347,  4582,   151,    16,   738,    13,    27,\n",
      "           14,    27,    15,  2384,   452,    92,  2059, 27360,     2,   347,\n",
      "            8,     2,   738,    11,   271,    42,   240, 51953,    38,     2,\n",
      "          294,   126,   112,    85,   220,     2,  7856,     6, 40066, 15380,\n",
      "            1,    70,  7376,    58,  1810,    29,   905,   537,  2846,    13,\n",
      "           27,    14,    27,    15,   838,    39,  4978,    58, 68871,    29,\n",
      "            2,   905,  2846,     7,   537,    70, 58874,   703,     5,   912,\n",
      "         2520,    93, 89171,     3,    30,    58,   293,    26,    10,   114,\n",
      "            1,    58,    92,  4379,     4,  3581,   145,     3,  7577,    23,\n",
      "        12282,     4,    36,   347,    13,   105,    14,   105,    15, 90056,\n",
      "           50,    58,    92,     3, 11312,  1732,     8, 13750,  9735,     3,\n",
      "         3593,     5,    23,   365, 12282,  3470,    94,   299,   167,     2,\n",
      "           36,   399,   545,     1,   151,   152,    43,     3,    45,   355,\n",
      "           71,  2280,    13,    27,    14,    27,    15,   151,   789,  1357,\n",
      "          280,    10, 70411,  4433,   355,  2280,    11,     2,    71,    19,\n",
      "           58,    92,  2301,   353,   468, 55934,   715,     3, 12933,     5,\n",
      "         1617,   738,    29,   179, 77320,    64,     1,    13,   846,     1,\n",
      "          371,    14,   756,  1207,   439,     7,   307,    85,    13,    31,\n",
      "           14,    31,    15,  1766,     6,     2,   407,    16,     9,   832,\n",
      "          756,   126,  2145,  1207,   439,    24,   468,   108,     1,   782,\n",
      "          139,     7,     2,   307,    85,     4,   468, 56748,     1,  8874,\n",
      "         6852,     3,     2,   797,    54,  3007,    26,    60,     1,  1355,\n",
      "         1236,   517, 13945,    38,  1416,    13,  2199,     1,   172,    14,\n",
      "         2199,     1,   172,    15,   832,   124,  5951,   113,     5,  2539,\n",
      "            7,  1232,     3,     8,    23,   571,    11,  2444,  1687,   439,\n",
      "           69,    85,     3,     2,   100,    26,    60,     3,  7126,     2,\n",
      "          347,    21,  2566,    29,     5, 26470,  3676,     1],\n",
      "       device='mps:0') tensor([  0,  29,  71, 111, 151, 194, 242, 289], device='mps:0')\n"
     ]
    }
   ],
   "source": [
    "for labels, texts, offsets in dataloader:\n",
    "    print(labels, texts, offsets)\n",
    "    break"
   ]
  },
  {
   "cell_type": "code",
   "execution_count": null,
   "metadata": {},
   "outputs": [],
   "source": []
  },
  {
   "cell_type": "code",
   "execution_count": null,
   "metadata": {},
   "outputs": [],
   "source": []
  },
  {
   "cell_type": "code",
   "execution_count": null,
   "metadata": {},
   "outputs": [],
   "source": []
  }
 ],
 "metadata": {
  "kernelspec": {
   "display_name": "Torch_NLP38",
   "language": "python",
   "name": "python3"
  },
  "language_info": {
   "codemirror_mode": {
    "name": "ipython",
    "version": 3
   },
   "file_extension": ".py",
   "mimetype": "text/x-python",
   "name": "python",
   "nbconvert_exporter": "python",
   "pygments_lexer": "ipython3",
   "version": "3.8.19"
  }
 },
 "nbformat": 4,
 "nbformat_minor": 2
}
