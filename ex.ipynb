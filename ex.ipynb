{
 "cells": [
  {
   "cell_type": "code",
   "execution_count": 2,
   "id": "initial_id",
   "metadata": {
    "ExecuteTime": {
     "end_time": "2024-03-28T01:56:06.587346Z",
     "start_time": "2024-03-28T01:56:02.117711Z"
    },
    "collapsed": true
   },
   "outputs": [],
   "source": [
    "import pandas as pd\n",
    "import seaborn as sns\n",
    "import sklearn as sk\n",
    "import nltk"
   ]
  },
  {
   "cell_type": "code",
   "execution_count": 3,
   "id": "66fd96bb2b5482f",
   "metadata": {
    "ExecuteTime": {
     "end_time": "2024-03-28T02:00:43.303225Z",
     "start_time": "2024-03-28T02:00:43.299564Z"
    },
    "collapsed": false
   },
   "outputs": [
    {
     "name": "stdout",
     "output_type": "stream",
     "text": [
      "2.0.3\n",
      "0.12.2\n",
      "1.3.0\n",
      "3.8.1\n"
     ]
    }
   ],
   "source": [
    "print(pd.__version__)\n",
    "print(sns.__version__)\n",
    "print(sk.__version__)\n",
    "print(nltk.__version__)"
   ]
  },
  {
   "cell_type": "code",
   "execution_count": null,
   "id": "35fd2c353fba3b3e",
   "metadata": {
    "ExecuteTime": {
     "end_time": "2024-03-28T02:00:32.918382Z",
     "start_time": "2024-03-28T01:58:32.158859Z"
    },
    "collapsed": false
   },
   "outputs": [],
   "source": []
  },
  {
   "cell_type": "code",
   "execution_count": null,
   "id": "3e299bdfe669bf2b",
   "metadata": {
    "collapsed": false
   },
   "outputs": [],
   "source": []
  }
 ],
 "metadata": {
  "kernelspec": {
   "display_name": "Python 3",
   "language": "python",
   "name": "python3"
  },
  "language_info": {
   "codemirror_mode": {
    "name": "ipython",
    "version": 3
   },
   "file_extension": ".py",
   "mimetype": "text/x-python",
   "name": "python",
   "nbconvert_exporter": "python",
   "pygments_lexer": "ipython3",
   "version": "3.9.6"
  }
 },
 "nbformat": 4,
 "nbformat_minor": 5
}
